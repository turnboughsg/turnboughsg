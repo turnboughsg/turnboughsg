{
  "cells": [
    {
      "cell_type": "markdown",
      "metadata": {
        "id": "view-in-github",
        "colab_type": "text"
      },
      "source": [
        "<a href=\"https://colab.research.google.com/github/turnboughsg/turnboughsg/blob/main/Introduction_to_Cognite_Python_SDK_DE.ipynb\" target=\"_parent\"><img src=\"https://colab.research.google.com/assets/colab-badge.svg\" alt=\"Open In Colab\"/></a>"
      ]
    },
    {
      "cell_type": "markdown",
      "metadata": {
        "id": "rvTGHFbHUCqa"
      },
      "source": [
        "##Read the Cognite Learn content before running code examples."
      ]
    },
    {
      "cell_type": "markdown",
      "metadata": {
        "id": "3sS9baFNCsJ4"
      },
      "source": [
        "##1. Environment Set Up"
      ]
    },
    {
      "cell_type": "markdown",
      "metadata": {
        "id": "Qb8H5WYaDAgF"
      },
      "source": [
        "###Install the Cognite SDK package"
      ]
    },
    {
      "cell_type": "markdown",
      "metadata": {
        "id": "UnNKEbXHHH61"
      },
      "source": [
        "If you recieve the errors:\n",
        "\n",
        "`ERROR: datascience 0.10.6 has requirement folium==0.2.1, but you'll have folium 0.8.3 which is incompatible.`\n",
        "\n",
        "`ERROR: albumentations 0.1.12 has requirement imgaug<0.2.7,>=0.2.5, but you'll have imgaug 0.2.9 which is incompatible.`\n",
        "\n",
        "You can disregard them and do not need to click \"Restart Runtime\"."
      ]
    },
    {
      "cell_type": "code",
      "execution_count": null,
      "metadata": {
        "id": "QyOeQPCeDGMV"
      },
      "outputs": [],
      "source": [
        "!pip install cognite-sdk\n",
        "!pip install cognite-sdk --upgrade\n",
        "!pip install cognite-sdk-core"
      ]
    },
    {
      "cell_type": "markdown",
      "metadata": {
        "id": "u8i-1mQDDKhc"
      },
      "source": [
        "###Install the MSAL\n",
        "\n",
        "\n"
      ]
    },
    {
      "cell_type": "code",
      "execution_count": null,
      "metadata": {
        "id": "-BjwC7qlDQP1"
      },
      "outputs": [],
      "source": [
        "!pip install msal"
      ]
    },
    {
      "cell_type": "markdown",
      "metadata": {
        "id": "BFI6c51zEn_y"
      },
      "source": [
        "### Connect to Cognite Data Fusion\n",
        "This client object is how all queries will be sent to the Cognite API to retrieve data.\n",
        "\n",
        "For successfully retrieving the Cognite API, sign in with your user credentials linked to the Azure AD group. For publicdata, your user credentials are the same as you use to sign in to Cognite Hub and Cognite Learn."
      ]
    },
    {
      "cell_type": "code",
      "execution_count": null,
      "metadata": {
        "id": "TZr9WTWXfvcA"
      },
      "outputs": [],
      "source": [
        "from cognite.client import CogniteClient\n",
        "from msal import PublicClientApplication\n",
        "# Contact Project Administrator to get these\n",
        "TENANT_ID = '48d5043c-cf70-4c49-881c-c638f5796997'\n",
        "CLIENT_ID = '1b90ede3-271e-401b-81a0-a4d52bea3273'\n",
        "CDF_CLUSTER = 'api' # api, westeurope-1 etc\n",
        "COGNITE_PROJECT = 'publicdata'\n",
        "SCOPES = [f'https://{CDF_CLUSTER}.cognitedata.com/.default']\n",
        "AUTHORITY_HOST_URI = 'https://login.microsoftonline.com'\n",
        "AUTHORITY_URI = AUTHORITY_HOST_URI + '/' + TENANT_ID\n",
        "app = PublicClientApplication(client_id=CLIENT_ID, authority=AUTHORITY_URI)\n",
        "def authenticate_device_code(app):\n",
        "  # Firstly, check the cache to see if this end user has signed in before\n",
        "  accounts = app.get_accounts()\n",
        "  if accounts:\n",
        "    creds = app.acquire_token_silent(SCOPES, account=accounts[0])\n",
        "  else:\n",
        "    device_flow = app.initiate_device_flow(scopes=SCOPES)\n",
        "    print(device_flow['message']) # print device code to screen\n",
        "    creds = app.acquire_token_by_device_flow(flow=device_flow)\n",
        "  return creds\n",
        "def get_token():\n",
        "  return authenticate_device_code(app)['access_token']\n",
        "client = CogniteClient(\n",
        "  token_url=f'{AUTHORITY_URI}/v2.0',\n",
        "  token=get_token,\n",
        "  token_client_id=CLIENT_ID,\n",
        "  project=COGNITE_PROJECT,\n",
        "  base_url=f'https://{CDF_CLUSTER}.cognitedata.com',\n",
        "  client_name='cognite-python-dev',\n",
        ")\n",
        "print(client.iam.token.inspect())"
      ]
    },
    {
      "cell_type": "markdown",
      "metadata": {
        "id": "Rg_C7QvUl1Mc"
      },
      "source": [
        "##2. Retrieving Lists of Assets"
      ]
    },
    {
      "cell_type": "markdown",
      "metadata": {
        "id": "Ignb8US7l-Qv"
      },
      "source": [
        "###List assets\n",
        "The `client.assets.list(limit=20)` function retrieves the first `limit` assets, and returns it as an `AssetList`."
      ]
    },
    {
      "cell_type": "code",
      "execution_count": null,
      "metadata": {
        "id": "PBd_bxusmJoD"
      },
      "outputs": [],
      "source": [
        "client.assets.list(limit=20)"
      ]
    },
    {
      "cell_type": "markdown",
      "metadata": {
        "id": "CBQDOD_8982K"
      },
      "source": [
        "##Search Assets##\n",
        "The `client.assets.search()` function allows you to search by a specific property of the asset, including its name, parent, etc."
      ]
    },
    {
      "cell_type": "markdown",
      "metadata": {
        "id": "iGzlTbUJmB8Z"
      },
      "source": [
        "###Fuzzy Search by name\n",
        "The search by name includes results that are similar in name, but not an exact match."
      ]
    },
    {
      "cell_type": "code",
      "execution_count": null,
      "metadata": {
        "id": "JXZ4_aIhmLjd"
      },
      "outputs": [],
      "source": [
        "asset_name = \"23-TE-96148\"\n",
        "assets = client.assets.search(name=asset_name)\n",
        "assets[:5]"
      ]
    },
    {
      "cell_type": "markdown",
      "metadata": {
        "id": "TP1FgfPVmDMk"
      },
      "source": [
        "###Specific Search\n",
        "The `client.assets.retrieve()` interface provides the same information for one specific asset based on the provided ID or external ID."
      ]
    },
    {
      "cell_type": "code",
      "execution_count": null,
      "metadata": {
        "id": "EVpjB6N9mN7U"
      },
      "outputs": [],
      "source": [
        "asset_id = [a.id for a in assets if a.name==asset_name][0]\n",
        "client.assets.retrieve(id=asset_id)"
      ]
    },
    {
      "cell_type": "markdown",
      "metadata": {
        "id": "mWtFaG-bSdCU"
      },
      "source": [
        "##3. Events\n"
      ]
    },
    {
      "cell_type": "markdown",
      "metadata": {
        "id": "IWt2UcejSkl6"
      },
      "source": [
        "Like we did for assets, we can list events. We will not go more in depth on events here, but you can also filter and search for events. "
      ]
    },
    {
      "cell_type": "code",
      "execution_count": null,
      "metadata": {
        "id": "4HepEaBeScnc"
      },
      "outputs": [],
      "source": [
        "client.events.list(limit=7)"
      ]
    },
    {
      "cell_type": "markdown",
      "metadata": {
        "id": "kOi5l9ArnH1c"
      },
      "source": [
        "##4. Asset Hierarchy and Relationships"
      ]
    },
    {
      "cell_type": "markdown",
      "metadata": {
        "id": "yQbT4KIFnLBq"
      },
      "source": [
        "We will generate a list of all children of the main asset of interest. The main asset of interest is listed first, then the children are listed underneath in following rows."
      ]
    },
    {
      "cell_type": "code",
      "execution_count": null,
      "metadata": {
        "id": "3aOeBcKYnRLE"
      },
      "outputs": [],
      "source": [
        "subtree = client.assets.retrieve_subtree(id=4650652196144007)\n",
        "subtree[:5]"
      ]
    },
    {
      "cell_type": "markdown",
      "metadata": {
        "id": "LIyYdejlnUtT"
      },
      "source": [
        "##5. Collecting Time Series Data"
      ]
    },
    {
      "cell_type": "markdown",
      "metadata": {
        "id": "Qt6Dcdn1rRS4"
      },
      "source": [
        "###Compile a list of time series objects under the asset\n",
        "For each of the assets in the subtree we retrieved, we get the associated time series objects and merge them into a single `TimeSeriesList` object."
      ]
    },
    {
      "cell_type": "code",
      "execution_count": null,
      "metadata": {
        "id": "tOx8h90ArYY2"
      },
      "outputs": [],
      "source": [
        "all_timeseries = subtree.time_series()\n",
        "print(len(all_timeseries),'time series in subtree')\n",
        "all_timeseries[:5]"
      ]
    },
    {
      "cell_type": "markdown",
      "metadata": {
        "id": "qllkrh6Dtp7R"
      },
      "source": [
        "If you are curious about which asset a time series is attached to, you can retrieve more information of the asset by using the retrieve function. Note that the property is called `asset_id` following typical python style, while `assetId` is used in the underlying API objects and tabular outputs."
      ]
    },
    {
      "cell_type": "code",
      "execution_count": null,
      "metadata": {
        "id": "0afqCmxDtsAf"
      },
      "outputs": [],
      "source": [
        "client.assets.retrieve(id=all_timeseries[5].asset_id)"
      ]
    },
    {
      "cell_type": "markdown",
      "metadata": {
        "id": "SdRhnDi-sN_9"
      },
      "source": [
        "###View datapoints for specific time series\n",
        "The identifier to retrieve Datapoints is the externalId column from the output above."
      ]
    },
    {
      "cell_type": "code",
      "execution_count": null,
      "metadata": {
        "id": "1j1bQ9Drtpxz"
      },
      "outputs": [],
      "source": [
        "client.datapoints.retrieve(external_id=\"pi:160184\", start=\"10d-ago\", end=\"now\")[:10]"
      ]
    },
    {
      "cell_type": "markdown",
      "metadata": {
        "id": "LnWqcSkLt5hq"
      },
      "source": [
        "##6. Use Cases of CDF Data"
      ]
    },
    {
      "cell_type": "markdown",
      "metadata": {
        "id": "dwpidXxYKoAl"
      },
      "source": [
        "###Collect datapoints from CDF\n",
        "The time series names are defined in the in_ts_exids and out_ts_exid lists below."
      ]
    },
    {
      "cell_type": "code",
      "execution_count": null,
      "metadata": {
        "id": "h9yTIu44uDEX"
      },
      "outputs": [],
      "source": [
        "in_ts_exids = [\"pi:160182\", \"pi:160697\", \"pi:160882\"]\n",
        "out_ts_exid = \"pi:160696\""
      ]
    },
    {
      "cell_type": "markdown",
      "metadata": {
        "id": "TpqB2BA8Kw_T"
      },
      "source": [
        "###Retrieve Data Points from CDF\n",
        "Most object types in the Python SDK have a `to_pandas` method which converts the result to a pandas dataframe. For retrieving aggregates such as the average over each time period, you can use `client.datapoints.retrieve_dataframe` to get a pandas dataframe directly. "
      ]
    },
    {
      "cell_type": "code",
      "execution_count": null,
      "metadata": {
        "id": "IH4rB1zbuOiZ"
      },
      "outputs": [],
      "source": [
        "ts_exids = in_ts_exids + [out_ts_exid]\n",
        "from datetime import datetime, timedelta\n",
        "train_start_date = datetime(2018, 8, 1)\n",
        "\n",
        "train_end_date = train_start_date + timedelta(days=30)\n",
        "\n",
        "datapoints_df = client.datapoints.retrieve_dataframe(external_id=ts_exids,\n",
        "                                                     aggregates=['average'],\n",
        "                                                     granularity='1m',\n",
        "                                                     start=train_start_date,\n",
        "                                                     end=train_end_date,\n",
        "                                                     include_aggregate_name=False\n",
        "                                                     )\n",
        "datapoints_df.fillna(method=\"ffill\", inplace=True)\n",
        "datapoints_df.head()"
      ]
    },
    {
      "cell_type": "markdown",
      "metadata": {
        "id": "5OhckFiVAUfO"
      },
      "source": [
        "There are also shortcuts for filling the dataframe when using interpolation or count aggregates. Note that without the `include_aggregate_name=False` option, the aggregate name is appended to the external id to form a unique column name."
      ]
    },
    {
      "cell_type": "code",
      "execution_count": null,
      "metadata": {
        "id": "bSBMHkzmuaSn"
      },
      "outputs": [],
      "source": [
        "datapoints_df_interp = client.datapoints.retrieve_dataframe(external_id=ts_exids[0:2],\n",
        "                                                           aggregates=['interpolation','count'],\n",
        "                                                           granularity='1h',\n",
        "                                                           start=train_start_date,\n",
        "                                                           end=train_end_date,\n",
        "                                                           complete=\"fill\"\n",
        "                                                          )\n",
        "datapoints_df_interp.head()"
      ]
    },
    {
      "cell_type": "markdown",
      "metadata": {
        "id": "xPO2NqAjGKIs"
      },
      "source": [
        "###Visualize the Time Series Data\n",
        "The bottom right plot is the output time series, while the other 3 are the inputs used to create an estimate for the output."
      ]
    },
    {
      "cell_type": "code",
      "execution_count": null,
      "metadata": {
        "id": "c9CHHKVCuuUQ"
      },
      "outputs": [],
      "source": [
        "cols = datapoints_df.columns\n",
        "from matplotlib import pyplot as plt\n",
        "fig, axes = plt.subplots(nrows=2, ncols=2, figsize=(10,10))\n",
        "for i, col in enumerate(cols):\n",
        "    datapoints_df.loc[:, [col]].plot(ax=axes.ravel()[i])"
      ]
    },
    {
      "cell_type": "markdown",
      "source": [
        "# **Gatheting Training Data**"
      ],
      "metadata": {
        "id": "1vVMGuMcY_dC"
      }
    },
    {
      "cell_type": "code",
      "source": [],
      "metadata": {
        "id": "IsTTTb5sdZSX"
      },
      "execution_count": null,
      "outputs": []
    },
    {
      "cell_type": "code",
      "source": [],
      "metadata": {
        "id": "yxyI0Z7_dZWF"
      },
      "execution_count": null,
      "outputs": []
    },
    {
      "cell_type": "code",
      "source": [],
      "metadata": {
        "id": "XuKn6EQ8dNNq"
      },
      "execution_count": null,
      "outputs": []
    },
    {
      "cell_type": "code",
      "source": [],
      "metadata": {
        "id": "OhMgifH5dNRA"
      },
      "execution_count": null,
      "outputs": []
    },
    {
      "cell_type": "markdown",
      "source": [
        "# **Create a Basic Linear Regression Model**"
      ],
      "metadata": {
        "id": "rvg4oju0dRGF"
      }
    },
    {
      "cell_type": "code",
      "source": [],
      "metadata": {
        "id": "wmzpmaSLdc1v"
      },
      "execution_count": null,
      "outputs": []
    },
    {
      "cell_type": "code",
      "source": [],
      "metadata": {
        "id": "_DIvp4HkdfWs"
      },
      "execution_count": null,
      "outputs": []
    },
    {
      "cell_type": "markdown",
      "source": [
        "# **Anomalous Period**"
      ],
      "metadata": {
        "id": "HZbgSdFsdixT"
      }
    },
    {
      "cell_type": "code",
      "source": [],
      "metadata": {
        "id": "U8nhz67edpYO"
      },
      "execution_count": null,
      "outputs": []
    },
    {
      "cell_type": "code",
      "source": [],
      "metadata": {
        "id": "JqqLfIfTdpbr"
      },
      "execution_count": null,
      "outputs": []
    },
    {
      "cell_type": "code",
      "source": [],
      "metadata": {
        "id": "G-5ovtX-dpfN"
      },
      "execution_count": null,
      "outputs": []
    },
    {
      "cell_type": "markdown",
      "source": [
        "# **Removing Outliers**"
      ],
      "metadata": {
        "id": "7dD-kXLndrl9"
      }
    },
    {
      "cell_type": "code",
      "source": [
        "\n"
      ],
      "metadata": {
        "id": "89B0k1qQd0wI"
      },
      "execution_count": null,
      "outputs": []
    },
    {
      "cell_type": "code",
      "source": [],
      "metadata": {
        "id": "J5K7ZcSCd00g"
      },
      "execution_count": null,
      "outputs": []
    },
    {
      "cell_type": "code",
      "source": [],
      "metadata": {
        "id": "LWt6hn2Wd04K"
      },
      "execution_count": null,
      "outputs": []
    },
    {
      "cell_type": "code",
      "source": [],
      "metadata": {
        "id": "XWwRv37Bd07M"
      },
      "execution_count": null,
      "outputs": []
    },
    {
      "cell_type": "code",
      "source": [],
      "metadata": {
        "id": "H2xwAY4ld097"
      },
      "execution_count": null,
      "outputs": []
    },
    {
      "cell_type": "markdown",
      "source": [
        "# **Anomaly Detection**"
      ],
      "metadata": {
        "id": "_ZakRnQfd3jL"
      }
    },
    {
      "cell_type": "code",
      "source": [],
      "metadata": {
        "id": "KtkHeojvd5mc"
      },
      "execution_count": null,
      "outputs": []
    },
    {
      "cell_type": "code",
      "source": [],
      "metadata": {
        "id": "nK3ke1_9d5qH"
      },
      "execution_count": null,
      "outputs": []
    },
    {
      "cell_type": "code",
      "source": [],
      "metadata": {
        "id": "4jNgVV7Ed5tP"
      },
      "execution_count": null,
      "outputs": []
    },
    {
      "cell_type": "code",
      "source": [],
      "metadata": {
        "id": "dgIHf2khd9D-"
      },
      "execution_count": null,
      "outputs": []
    },
    {
      "cell_type": "code",
      "source": [],
      "metadata": {
        "id": "OxYURvqnyps4"
      },
      "execution_count": null,
      "outputs": []
    },
    {
      "cell_type": "markdown",
      "source": [
        "# **Puzzle**"
      ],
      "metadata": {
        "id": "VgxKqyz9d9YY"
      }
    },
    {
      "cell_type": "code",
      "source": [],
      "metadata": {
        "id": "pPYsAMB2eAuI",
        "colab": {
          "base_uri": "https://localhost:8080/",
          "height": 35
        },
        "outputId": "8e4fd3a8-ded2-489f-9180-9503c562bed1"
      },
      "execution_count": null,
      "outputs": [
        {
          "output_type": "execute_result",
          "data": {
            "text/plain": [
              "'23-CB-9129B'"
            ],
            "application/vnd.google.colaboratory.intrinsic+json": {
              "type": "string"
            }
          },
          "metadata": {},
          "execution_count": 34
        }
      ]
    },
    {
      "cell_type": "code",
      "source": [],
      "metadata": {
        "id": "ZPCMTKljeAyD"
      },
      "execution_count": null,
      "outputs": []
    },
    {
      "cell_type": "code",
      "source": [],
      "metadata": {
        "id": "GLFolAl2eA1w"
      },
      "execution_count": null,
      "outputs": []
    },
    {
      "cell_type": "code",
      "source": [],
      "metadata": {
        "id": "1rpD2QffeA5x"
      },
      "execution_count": null,
      "outputs": []
    },
    {
      "cell_type": "code",
      "source": [],
      "metadata": {
        "id": "g8U_yNoFeA9u"
      },
      "execution_count": null,
      "outputs": []
    },
    {
      "cell_type": "code",
      "source": [],
      "metadata": {
        "id": "aLWixE1ueBD8"
      },
      "execution_count": null,
      "outputs": []
    },
    {
      "cell_type": "code",
      "source": [],
      "metadata": {
        "id": "FbaKGu6HeBNa"
      },
      "execution_count": null,
      "outputs": []
    },
    {
      "cell_type": "code",
      "source": [],
      "metadata": {
        "id": "SvcU19frzLmx"
      },
      "execution_count": null,
      "outputs": []
    },
    {
      "cell_type": "code",
      "source": [],
      "metadata": {
        "id": "TyjjW7mkzR3r"
      },
      "execution_count": null,
      "outputs": []
    }
  ],
  "metadata": {
    "colab": {
      "provenance": [],
      "include_colab_link": true
    },
    "kernelspec": {
      "display_name": "Python 3",
      "name": "python3"
    }
  },
  "nbformat": 4,
  "nbformat_minor": 0
}